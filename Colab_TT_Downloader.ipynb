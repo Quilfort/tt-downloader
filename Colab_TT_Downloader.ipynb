{
  "nbformat": 4,
  "nbformat_minor": 0,
  "metadata": {
    "colab": {
      "provenance": []
    },
    "kernelspec": {
      "name": "python3",
      "display_name": "Python 3"
    },
    "language_info": {
      "name": "python"
    }
  },
  "cells": [
    {
      "cell_type": "code",
      "source": [
        "!pip install -U yt-dlp"
      ],
      "metadata": {
        "id": "2EAaDgyIwaSw"
      },
      "execution_count": null,
      "outputs": []
    },
    {
      "cell_type": "code",
      "source": [
        "import os\n",
        "import yt_dlp\n",
        "from urllib.parse import urlparse\n",
        "from google.colab import files\n",
        "\n",
        "def download_tiktok_video(url, output_path):\n",
        "    try:\n",
        "        ydl_opts = {\n",
        "            'outtmpl': output_path,\n",
        "            'format': 'best',\n",
        "        }\n",
        "\n",
        "        with yt_dlp.YoutubeDL(ydl_opts) as ydl:\n",
        "            ydl.download([url])\n",
        "\n",
        "        print(f\"Video downloaded successfully: {output_path}\")\n",
        "\n",
        "        # Download the file to the user's local machine\n",
        "        files.download(output_path)\n",
        "\n",
        "    except Exception as e:\n",
        "        print(f\"Error downloading video: {str(e)}\")\n",
        "\n",
        "\n",
        "# Get user input\n",
        "url = input(\"Enter the TikTok video URL: \")\n",
        "output = input(\"Enter the output file name (default: video.mp4): \") or \"video.mp4\"\n",
        "\n",
        "# Validate URL\n",
        "parsed_url = urlparse(url)\n",
        "if not (parsed_url.scheme and parsed_url.netloc):\n",
        "    print(\"Error: Invalid URL. Please provide a valid TikTok video URL.\")\n",
        "else:\n",
        "    download_tiktok_video(url, output)"
      ],
      "metadata": {
        "colab": {
          "base_uri": "https://localhost:8080/",
          "height": 165
        },
        "id": "JDIq2172vL6f",
        "outputId": "94b46922-b4de-4856-b00f-c40586279eea"
      },
      "execution_count": 5,
      "outputs": [
        {
          "output_type": "stream",
          "name": "stdout",
          "text": [
            "Enter the TikTok video URL: https://www.tiktok.com/@onlygirlsfacts.com/video/7379448163951774982\n",
            "Enter the output file name (default: video.mp4): d.mp4\n",
            "[TikTok] Extracting URL: https://www.tiktok.com/@onlygirlsfacts.com/video/7379448163951774982\n",
            "[TikTok] 7379448163951774982: Downloading webpage\n",
            "[info] 7379448163951774982: Downloading 1 format(s): bytevc1_1080p_710981-1\n",
            "[download] Destination: d.mp4\n",
            "[download] 100% of    1.51MiB in 00:00:00 at 9.41MiB/s   \n",
            "Video downloaded successfully: d.mp4\n"
          ]
        },
        {
          "output_type": "display_data",
          "data": {
            "text/plain": [
              "<IPython.core.display.Javascript object>"
            ],
            "application/javascript": [
              "\n",
              "    async function download(id, filename, size) {\n",
              "      if (!google.colab.kernel.accessAllowed) {\n",
              "        return;\n",
              "      }\n",
              "      const div = document.createElement('div');\n",
              "      const label = document.createElement('label');\n",
              "      label.textContent = `Downloading \"${filename}\": `;\n",
              "      div.appendChild(label);\n",
              "      const progress = document.createElement('progress');\n",
              "      progress.max = size;\n",
              "      div.appendChild(progress);\n",
              "      document.body.appendChild(div);\n",
              "\n",
              "      const buffers = [];\n",
              "      let downloaded = 0;\n",
              "\n",
              "      const channel = await google.colab.kernel.comms.open(id);\n",
              "      // Send a message to notify the kernel that we're ready.\n",
              "      channel.send({})\n",
              "\n",
              "      for await (const message of channel.messages) {\n",
              "        // Send a message to notify the kernel that we're ready.\n",
              "        channel.send({})\n",
              "        if (message.buffers) {\n",
              "          for (const buffer of message.buffers) {\n",
              "            buffers.push(buffer);\n",
              "            downloaded += buffer.byteLength;\n",
              "            progress.value = downloaded;\n",
              "          }\n",
              "        }\n",
              "      }\n",
              "      const blob = new Blob(buffers, {type: 'application/binary'});\n",
              "      const a = document.createElement('a');\n",
              "      a.href = window.URL.createObjectURL(blob);\n",
              "      a.download = filename;\n",
              "      div.appendChild(a);\n",
              "      a.click();\n",
              "      div.remove();\n",
              "    }\n",
              "  "
            ]
          },
          "metadata": {}
        },
        {
          "output_type": "display_data",
          "data": {
            "text/plain": [
              "<IPython.core.display.Javascript object>"
            ],
            "application/javascript": [
              "download(\"download_52420b44-ee47-4b9d-a400-da0535ee3661\", \"d.mp4\", 1580778)"
            ]
          },
          "metadata": {}
        }
      ]
    }
  ]
}