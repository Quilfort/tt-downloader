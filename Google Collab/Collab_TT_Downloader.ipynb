{
  "cells": [
    {
      "cell_type": "code",
      "execution_count": null,
      "metadata": {
        "id": "2EAaDgyIwaSw"
      },
      "outputs": [],
      "source": [
        "!pip install -U yt-dlp"
      ]
    },
    {
      "cell_type": "code",
      "execution_count": null,
      "metadata": {
        "colab": {
          "base_uri": "https://localhost:8080/",
          "height": 165
        },
        "id": "JDIq2172vL6f",
        "outputId": "94b46922-b4de-4856-b00f-c40586279eea"
      },
      "outputs": [],
      "source": [
        "import os\n",
        "import yt_dlp\n",
        "from urllib.parse import urlparse\n",
        "from google.colab import files\n",
        "\n",
        "def download_tiktok_video(url, output_path):\n",
        "    try:\n",
        "        ydl_opts = {\n",
        "            'outtmpl': output_path,\n",
        "            'format': 'best',\n",
        "        }\n",
        "        \n",
        "        with yt_dlp.YoutubeDL(ydl_opts) as ydl:\n",
        "            ydl.download([url])\n",
        "        \n",
        "        print(f\"Video downloaded successfully: {output_path}\")\n",
        "        \n",
        "        # Download the file to the user's local machine\n",
        "        files.download(output_path)\n",
        "\n",
        "    except Exception as e:\n",
        "        print(f\"Error downloading video: {str(e)}\")\n",
        "\n",
        "def get_default_filename(url):\n",
        "    parsed_url = urlparse(url)\n",
        "    path_parts = parsed_url.path.split('/')\n",
        "    if len(path_parts) > 1:\n",
        "        return path_parts[1].strip('@') + '.mp4'\n",
        "    return 'video.mp4'\n",
        "\n",
        "def ensure_mp4_extension(filename):\n",
        "    if not filename.lower().endswith('.mp4'):\n",
        "        return filename + '.mp4'\n",
        "    return filename\n",
        "\n",
        "def normalize_url(url):\n",
        "    if not url.startswith('http'):\n",
        "        url = 'https://' + url\n",
        "    if not url.startswith('https://www.'):\n",
        "        url = url.replace('https://', 'https://www.')\n",
        "    return url\n",
        "\n",
        "# Get user input\n",
        "url = input(\"Enter the TikTok video URL: \")\n",
        "url = normalize_url(url)\n",
        "default_filename = get_default_filename(url)\n",
        "output = input(f\"Enter the output file name (default: {default_filename}): \") or default_filename\n",
        "output = ensure_mp4_extension(output)\n",
        "\n",
        "# Validate URL\n",
        "parsed_url = urlparse(url)\n",
        "if not (parsed_url.scheme and parsed_url.netloc):\n",
        "    print(\"Error: Invalid URL. Please provide a valid TikTok video URL.\")\n",
        "else:\n",
        "    download_tiktok_video(url, output)"
      ]
    }
  ],
  "metadata": {
    "colab": {
      "provenance": []
    },
    "kernelspec": {
      "display_name": "Python 3",
      "name": "python3"
    },
    "language_info": {
      "name": "python",
      "version": "3.10.10"
    }
  },
  "nbformat": 4,
  "nbformat_minor": 0
}
